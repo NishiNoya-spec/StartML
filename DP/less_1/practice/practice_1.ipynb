{
 "cells": [
  {
   "cell_type": "code",
   "execution_count": 1,
   "metadata": {},
   "outputs": [],
   "source": [
    "import pandas as pd\n",
    "import numpy as np\n",
    "import torch"
   ]
  },
  {
   "cell_type": "markdown",
   "metadata": {},
   "source": [
    "#### Проверим доступен ли нам GPU"
   ]
  },
  {
   "cell_type": "code",
   "execution_count": 3,
   "metadata": {},
   "outputs": [
    {
     "data": {
      "text/plain": [
       "True"
      ]
     },
     "metadata": {},
     "output_type": "display_data"
    },
    {
     "data": {
      "text/plain": [
       "'NVIDIA GeForce RTX 3050 Ti Laptop GPU'"
      ]
     },
     "metadata": {},
     "output_type": "display_data"
    }
   ],
   "source": [
    "display(torch.cuda.is_available())\n",
    "display(torch.cuda.get_device_name())"
   ]
  },
  {
   "cell_type": "markdown",
   "metadata": {},
   "source": [
    "#### Динамический выбор работы на GPU или CPU"
   ]
  },
  {
   "cell_type": "code",
   "execution_count": 2,
   "metadata": {},
   "outputs": [
    {
     "name": "stdout",
     "output_type": "stream",
     "text": [
      "cuda:0\n"
     ]
    }
   ],
   "source": [
    "device = torch.device('cuda:0' if torch.cuda.is_available() else 'cpu')\n",
    "print(device)"
   ]
  },
  {
   "cell_type": "code",
   "execution_count": 29,
   "metadata": {},
   "outputs": [
    {
     "data": {
      "text/plain": [
       "'-> 1. Создание входов модели: '"
      ]
     },
     "metadata": {},
     "output_type": "display_data"
    },
    {
     "data": {
      "text/plain": [
       "tensor([0.3896, 0.4466, 0.7356, 0.5939, 0.7889])"
      ]
     },
     "metadata": {},
     "output_type": "display_data"
    },
    {
     "data": {
      "text/plain": [
       "'-> 2. Первый полносвязный слой z, Расчет весов: '"
      ]
     },
     "metadata": {},
     "output_type": "display_data"
    },
    {
     "data": {
      "text/plain": [
       "tensor([[0.4897, 0.6028, 0.5793, 0.2459, 0.5138],\n",
       "        [0.3585, 0.2661, 0.0384, 0.5906, 0.7910],\n",
       "        [0.8574, 0.7887, 0.1079, 0.7745, 0.2569]], requires_grad=True)"
      ]
     },
     "metadata": {},
     "output_type": "display_data"
    },
    {
     "data": {
      "text/plain": [
       "'-> 3. Слой z: '"
      ]
     },
     "metadata": {},
     "output_type": "display_data"
    },
    {
     "data": {
      "text/plain": [
       "tensor([0.0000, 4.4766, 1.6111])"
      ]
     },
     "metadata": {},
     "output_type": "display_data"
    },
    {
     "data": {
      "text/plain": [
       "'-> 4. Расчет выходов слоя z в цикле for i in range(3): z[i] = torch.sum(w[i] * x): '"
      ]
     },
     "metadata": {},
     "output_type": "display_data"
    },
    {
     "data": {
      "text/plain": [
       "tensor([1.4374, 1.2614, 1.4282], grad_fn=<CopySlices>)"
      ]
     },
     "metadata": {},
     "output_type": "display_data"
    },
    {
     "data": {
      "text/plain": [
       "'Альтернативный расчет переменожения матриц через z = torch.matmul(x, w.t()): '"
      ]
     },
     "metadata": {},
     "output_type": "display_data"
    },
    {
     "data": {
      "text/plain": [
       "tensor([1.4374, 1.2614, 1.4282], grad_fn=<SqueezeBackward4>)"
      ]
     },
     "metadata": {},
     "output_type": "display_data"
    },
    {
     "data": {
      "text/plain": [
       "'Создание второго полносвязного слоя v: '"
      ]
     },
     "metadata": {},
     "output_type": "display_data"
    },
    {
     "data": {
      "text/plain": [
       "tensor([0.3405, 0.7155, 0.4831], requires_grad=True)"
      ]
     },
     "metadata": {},
     "output_type": "display_data"
    },
    {
     "data": {
      "text/plain": [
       "'Расчитаем выход y: '"
      ]
     },
     "metadata": {},
     "output_type": "display_data"
    },
    {
     "data": {
      "text/plain": [
       "2.0820608139038086"
      ]
     },
     "metadata": {},
     "output_type": "display_data"
    },
    {
     "data": {
      "text/plain": [
       "'Имеем выход y, тогда посчитаем ошибку, например MSE (при y_true = 2): '"
      ]
     },
     "metadata": {},
     "output_type": "display_data"
    },
    {
     "data": {
      "text/plain": [
       "tensor(0.0067, grad_fn=<MeanBackward0>)"
      ]
     },
     "metadata": {},
     "output_type": "display_data"
    },
    {
     "data": {
      "text/plain": [
       "'Посмотрим на все наши тензоры: '"
      ]
     },
     "metadata": {},
     "output_type": "display_data"
    },
    {
     "data": {
      "text/plain": [
       "'Подсчитываем градиенты (веса) с помощью обратного распространения ошибки: '"
      ]
     },
     "metadata": {},
     "output_type": "display_data"
    },
    {
     "data": {
      "text/plain": [
       "'Подсчитанные веса слоев: '"
      ]
     },
     "metadata": {},
     "output_type": "display_data"
    },
    {
     "data": {
      "text/plain": [
       "'Веса слоя z: '"
      ]
     },
     "metadata": {},
     "output_type": "display_data"
    },
    {
     "data": {
      "text/plain": [
       "tensor([[0.0218, 0.0250, 0.0411, 0.0332, 0.0441],\n",
       "        [0.0457, 0.0524, 0.0864, 0.0697, 0.0926],\n",
       "        [0.0309, 0.0354, 0.0583, 0.0471, 0.0625]])"
      ]
     },
     "metadata": {},
     "output_type": "display_data"
    },
    {
     "data": {
      "text/plain": [
       "'Веса слоя v: '"
      ]
     },
     "metadata": {},
     "output_type": "display_data"
    },
    {
     "data": {
      "text/plain": [
       "tensor([0.2359, 0.2070, 0.2344])"
      ]
     },
     "metadata": {},
     "output_type": "display_data"
    }
   ],
   "source": [
    "display('-> 1. Создание входов модели: ')\n",
    "x = torch.rand(5)\n",
    "display(x)\n",
    "\n",
    "display('-> 2. Первый полносвязный слой z, Расчет весов: ')\n",
    "w = torch.rand(3, 5, requires_grad=True)\n",
    "display(w)\n",
    "\n",
    "display('-> 3. Слой z: ')\n",
    "z = torch.empty(3)\n",
    "display(z)\n",
    "\n",
    "display('-> 4. Расчет выходов слоя z в цикле for i in range(3): z[i] = torch.sum(w[i] * x): ')\n",
    "for i in range(3):\n",
    "    z[i] = torch.sum(w[i] * x)\n",
    "\n",
    "display(z)\n",
    "\n",
    "display('Альтернативный расчет переменожения матриц через z = torch.matmul(x, w.t()): ')\n",
    "z = torch.matmul(x, w.t())\n",
    "display(z)\n",
    "\n",
    "display('Создание второго полносвязного слоя v: ')\n",
    "v = torch.rand(3, requires_grad=True)\n",
    "display(v)\n",
    "\n",
    "display('Расчитаем выход y: ')\n",
    "y = torch.sum(z * v)\n",
    "display(y.item())\n",
    "\n",
    "display('Имеем выход y, тогда посчитаем ошибку, например MSE (при y_true = 2): ')\n",
    "loss = torch.mean((y - 2) ** 2)\n",
    "display(loss)\n",
    "\n",
    "display('Посмотрим на все наши тензоры: ')\n",
    "\n",
    "display('Подсчитываем градиенты (веса) с помощью обратного распространения ошибки: ')\n",
    "loss.backward()\n",
    "display('Подсчитанные веса слоев: ')\n",
    "display('Веса слоя z: ')\n",
    "display(w.grad)\n",
    "display('Веса слоя v: ')\n",
    "display(v.grad)"
   ]
  },
  {
   "cell_type": "code",
   "execution_count": 44,
   "metadata": {},
   "outputs": [
    {
     "data": {
      "text/plain": [
       "tensor(11.8463, grad_fn=<SumBackward0>)"
      ]
     },
     "metadata": {},
     "output_type": "display_data"
    },
    {
     "data": {
      "text/plain": [
       "tensor([[1., 1., 1., 1., 1.],\n",
       "        [1., 1., 1., 1., 1.],\n",
       "        [1., 1., 1., 1., 1.]])"
      ]
     },
     "metadata": {},
     "output_type": "display_data"
    },
    {
     "data": {
      "text/plain": [
       "tensor([[1., 1., 1., 1., 1.],\n",
       "        [1., 1., 1., 1., 1.],\n",
       "        [1., 1., 1., 1., 1.]])"
      ]
     },
     "metadata": {},
     "output_type": "display_data"
    }
   ],
   "source": [
    "with torch.no_grad(): ## with no_grad() - не считаются градиенты внутри контекстного окна\n",
    "    a = torch.rand(3, 5, requires_grad=True)\n",
    "    b = torch.rand(3, 5, requires_grad=True)\n",
    "    loss1 = torch.sum(a + b)\n",
    "    \n",
    "loss2 = torch.sum(a + b)\n",
    "loss2.backward()\n",
    "    \n",
    "display(loss2)\n",
    "display(a.grad)\n",
    "display(b.grad)"
   ]
  },
  {
   "cell_type": "code",
   "execution_count": 43,
   "metadata": {},
   "outputs": [
    {
     "data": {
      "text/plain": [
       "None"
      ]
     },
     "metadata": {},
     "output_type": "display_data"
    },
    {
     "data": {
      "text/plain": [
       "None"
      ]
     },
     "metadata": {},
     "output_type": "display_data"
    }
   ],
   "source": [
    "with torch.inference_mode(): ## with inference_mode() - градиенты никогда не считаются\n",
    "    a = torch.rand(3, 5, requires_grad=True)\n",
    "    b = torch.rand(3, 5, requires_grad=True)\n",
    "    loss1 = torch.sum(a + b)\n",
    "    \n",
    "display(a.grad)\n",
    "display(b.grad)"
   ]
  },
  {
   "cell_type": "code",
   "execution_count": 48,
   "metadata": {},
   "outputs": [
    {
     "data": {
      "text/plain": [
       "tensor(0.0516, grad_fn=<MeanBackward0>)"
      ]
     },
     "execution_count": 48,
     "metadata": {},
     "output_type": "execute_result"
    }
   ],
   "source": [
    "@torch.no_grad() ### Декораторы для no_grad() или inference_mode()\n",
    "def foo():\n",
    "    a = torch.rand(3, 5, requires_grad=True)\n",
    "    b = torch.rand(3, 5, requires_grad=True)\n",
    "\n",
    "    return a, b\n",
    "\n",
    "a, b = foo()\n",
    "torch.mean(a - b)"
   ]
  },
  {
   "cell_type": "code",
   "execution_count": 49,
   "metadata": {},
   "outputs": [],
   "source": [
    "### метод для включения / выключения подсчета градиентов у тензоров \n",
    "a.requires_grad = True\n",
    "b.requires_grad = False"
   ]
  },
  {
   "cell_type": "markdown",
   "metadata": {},
   "source": [
    "#### Полносвязные слои и функции активации "
   ]
  },
  {
   "cell_type": "code",
   "execution_count": 50,
   "metadata": {},
   "outputs": [],
   "source": [
    "from torch import nn "
   ]
  },
  {
   "attachments": {
    "image.png": {
     "image/png": "[encoded data removed]"
    }
   },
   "cell_type": "markdown",
   "metadata": {},
   "source": [
    "![image.png](attachment:image.png)"
   ]
  },
  {
   "cell_type": "code",
   "execution_count": 55,
   "metadata": {},
   "outputs": [
    {
     "data": {
      "text/plain": [
       "'Созданные веса слоя: '"
      ]
     },
     "metadata": {},
     "output_type": "display_data"
    },
    {
     "data": {
      "text/plain": [
       "Parameter containing:\n",
       "tensor([[-0.1726,  0.4363,  0.0207, -0.2426, -0.0412],\n",
       "        [ 0.1178,  0.2506, -0.2965,  0.3456, -0.3661],\n",
       "        [-0.2049, -0.3478, -0.1446, -0.1189,  0.0503]], requires_grad=True)"
      ]
     },
     "metadata": {},
     "output_type": "display_data"
    },
    {
     "data": {
      "text/plain": [
       "'Созданные свободные члены: '"
      ]
     },
     "metadata": {},
     "output_type": "display_data"
    },
    {
     "data": {
      "text/plain": [
       "Parameter containing:\n",
       "tensor([ 0.4344, -0.4442, -0.1052], requires_grad=True)"
      ]
     },
     "metadata": {},
     "output_type": "display_data"
    }
   ],
   "source": [
    "layer = nn.Linear(in_features=5, out_features=3)\n",
    "display('Созданные веса слоя: ')\n",
    "display(layer.weight)\n",
    "display('Созданные свободные члены: ')\n",
    "display(layer.bias)"
   ]
  },
  {
   "cell_type": "code",
   "execution_count": 59,
   "metadata": {},
   "outputs": [
    {
     "data": {
      "text/plain": [
       "tensor([ 1.0424, -0.7075, -0.8544], grad_fn=<ViewBackward0>)"
      ]
     },
     "metadata": {},
     "output_type": "display_data"
    }
   ],
   "source": [
    "x = torch.randn(5)\n",
    "display(layer(x))"
   ]
  },
  {
   "cell_type": "markdown",
   "metadata": {},
   "source": [
    "#### Функции активации"
   ]
  },
  {
   "attachments": {
    "image.png": {
     "image/png": "[encoded data removed]"
    }
   },
   "cell_type": "markdown",
   "metadata": {},
   "source": [
    "![image.png](attachment:image.png)"
   ]
  },
  {
   "cell_type": "code",
   "execution_count": 67,
   "metadata": {},
   "outputs": [
    {
     "data": {
      "text/plain": [
       "tensor([-0.5646,  0.6940,  1.7057, -0.4558, -1.2133])"
      ]
     },
     "metadata": {},
     "output_type": "display_data"
    },
    {
     "data": {
      "text/plain": [
       "tensor([0.3625, 0.6668, 0.8463, 0.3880, 0.2291])"
      ]
     },
     "metadata": {},
     "output_type": "display_data"
    }
   ],
   "source": [
    "activation = nn.Sigmoid()\n",
    "\n",
    "x = torch.randn(5)\n",
    "display(x)\n",
    "display(activation(x))"
   ]
  },
  {
   "attachments": {
    "image.png": {
     "image/png": "[encoded data removed]"
    }
   },
   "cell_type": "markdown",
   "metadata": {},
   "source": [
    "![image.png](attachment:image.png)"
   ]
  },
  {
   "cell_type": "code",
   "execution_count": 68,
   "metadata": {},
   "outputs": [
    {
     "data": {
      "text/plain": [
       "tensor([ 0.9258, -0.0070,  0.2757,  1.9931,  0.8705])"
      ]
     },
     "metadata": {},
     "output_type": "display_data"
    },
    {
     "data": {
      "text/plain": [
       "tensor([0.9258, 0.0000, 0.2757, 1.9931, 0.8705])"
      ]
     },
     "metadata": {},
     "output_type": "display_data"
    }
   ],
   "source": [
    "activation = nn.ReLU()\n",
    "\n",
    "x = torch.randn(5)\n",
    "display(x)\n",
    "display(activation(x))"
   ]
  },
  {
   "attachments": {
    "image.png": {
     "image/png": "[encoded data removed]"
    }
   },
   "cell_type": "markdown",
   "metadata": {},
   "source": [
    "![image.png](attachment:image.png)"
   ]
  },
  {
   "cell_type": "code",
   "execution_count": 70,
   "metadata": {},
   "outputs": [
    {
     "data": {
      "text/plain": [
       "tensor([ 0.6922, -1.6136, -0.0471,  1.5036, -0.4662])"
      ]
     },
     "metadata": {},
     "output_type": "display_data"
    },
    {
     "data": {
      "text/plain": [
       "tensor([ 6.9221e-01, -1.6136e-03, -4.7128e-05,  1.5036e+00, -4.6616e-04])"
      ]
     },
     "metadata": {},
     "output_type": "display_data"
    }
   ],
   "source": [
    "activation = nn.LeakyReLU(negative_slope=0.001)\n",
    "\n",
    "x = torch.randn(5)\n",
    "display(x)\n",
    "display(activation(x))"
   ]
  },
  {
   "cell_type": "markdown",
   "metadata": {},
   "source": [
    "#### Градиентный спуск"
   ]
  },
  {
   "cell_type": "code",
   "execution_count": 73,
   "metadata": {},
   "outputs": [],
   "source": [
    "n_features = 2\n",
    "n_objects = 300\n",
    "\n",
    "torch.manual_seed(0)\n",
    "\n",
    "w_true = torch.randn(n_features) # веса \n",
    "b_true = torch.randn(1) # биас\n",
    "\n",
    "x = (torch.rand(n_objects, n_features) - 0.5) * 10 * (torch.arange(n_features) * 2 + 1)\n",
    "y = torch.matmul(x, w_true) + torch.randn(n_objects) + b_true"
   ]
  },
  {
   "cell_type": "code",
   "execution_count": 71,
   "metadata": {},
   "outputs": [],
   "source": [
    "n_steps = 200\n",
    "step_size = 1e-2"
   ]
  },
  {
   "cell_type": "code",
   "execution_count": 76,
   "metadata": {},
   "outputs": [
    {
     "name": "stdout",
     "output_type": "stream",
     "text": [
      "MSE на шаге 1 130.75197\n",
      "MSE на шаге 2 53.79208\n",
      "MSE на шаге 3 27.54351\n",
      "MSE на шаге 4 17.58543\n",
      "MSE на шаге 5 13.15989\n",
      "MSE на шаге 6 10.80943\n",
      "MSE на шаге 7 9.35913\n",
      "MSE на шаге 8 8.36826\n",
      "MSE на шаге 9 7.64593\n",
      "MSE на шаге 10 7.09519\n",
      "MSE на шаге 11 6.65989\n",
      "MSE на шаге 12 6.30461\n",
      "MSE на шаге 13 6.00597\n",
      "MSE на шаге 14 5.74817\n",
      "MSE на шаге 15 5.52038\n",
      "MSE на шаге 16 5.31513\n",
      "MSE на шаге 17 5.12724\n",
      "MSE на шаге 18 4.95309\n",
      "MSE на шаге 19 4.79012\n",
      "MSE на шаге 20 4.63651\n",
      "MSE на шаге 21 4.49096\n",
      "MSE на шаге 31 3.34447\n",
      "MSE на шаге 41 2.58160\n",
      "MSE на шаге 51 2.06947\n",
      "MSE на шаге 61 1.72556\n",
      "MSE на шаге 71 1.49461\n",
      "MSE на шаге 81 1.33952\n",
      "MSE на шаге 91 1.23537\n",
      "MSE на шаге 101 1.16543\n",
      "MSE на шаге 111 1.11847\n",
      "MSE на шаге 121 1.08693\n",
      "MSE на шаге 131 1.06575\n",
      "MSE на шаге 141 1.05153\n",
      "MSE на шаге 151 1.04197\n",
      "MSE на шаге 161 1.03556\n",
      "MSE на шаге 171 1.03125\n",
      "MSE на шаге 181 1.02836\n",
      "MSE на шаге 191 1.02642\n"
     ]
    }
   ],
   "source": [
    "w = torch.rand(n_features, requires_grad=True)\n",
    "b = torch.rand(1, requires_grad=True)\n",
    "\n",
    "for i in range(n_steps):\n",
    "    y_pred = torch.matmul(x, w) + b\n",
    "\n",
    "    mse = torch.mean((y_pred - y) ** 2)\n",
    "\n",
    "    if i < 20 or i % 10 == 0:\n",
    "        print(f'MSE на шаге {i + 1} {mse.item():.5f}')\n",
    "\n",
    "    mse.backward()\n",
    "\n",
    "    with torch.no_grad():\n",
    "        w -= w.grad * step_size\n",
    "        b -= b.grad * step_size\n",
    "\n",
    "    w.grad.zero_()\n",
    "    b.grad.zero_()"
   ]
  },
  {
   "cell_type": "code",
   "execution_count": 79,
   "metadata": {},
   "outputs": [
    {
     "name": "stdout",
     "output_type": "stream",
     "text": [
      "MSE на шаге 1 28.00511\n",
      "MSE на шаге 2 18.32802\n",
      "MSE на шаге 3 13.78828\n",
      "MSE на шаге 4 11.26644\n",
      "MSE на шаге 5 9.67071\n",
      "MSE на шаге 6 8.57205\n",
      "MSE на шаге 7 7.77375\n",
      "MSE на шаге 8 7.17067\n",
      "MSE на шаге 9 6.69975\n",
      "MSE на шаге 10 6.32047\n",
      "MSE на шаге 11 6.00582\n",
      "MSE на шаге 12 5.73747\n",
      "MSE на шаге 13 5.50286\n",
      "MSE на шаге 14 5.29334\n",
      "MSE на шаге 15 5.10291\n",
      "MSE на шаге 16 4.92739\n",
      "MSE на шаге 17 4.76383\n",
      "MSE на шаге 18 4.61016\n",
      "MSE на шаге 19 4.46489\n",
      "MSE на шаге 20 4.32693\n",
      "MSE на шаге 21 4.19549\n",
      "MSE на шаге 31 3.14931\n",
      "MSE на шаге 41 2.45062\n",
      "MSE на шаге 51 1.98151\n",
      "MSE на шаге 61 1.66649\n",
      "MSE на шаге 71 1.45495\n",
      "MSE на шаге 81 1.31289\n",
      "MSE на шаге 91 1.21749\n",
      "MSE на шаге 101 1.15342\n",
      "MSE на шаге 111 1.11040\n",
      "MSE на шаге 121 1.08151\n",
      "MSE на шаге 131 1.06211\n",
      "MSE на шаге 141 1.04908\n",
      "MSE на шаге 151 1.04033\n",
      "MSE на шаге 161 1.03446\n",
      "MSE на шаге 171 1.03051\n",
      "MSE на шаге 181 1.02786\n",
      "MSE на шаге 191 1.02608\n"
     ]
    }
   ],
   "source": [
    "layer = nn.Linear(in_features=n_features, out_features=1)\n",
    "\n",
    "for i in range(n_steps):\n",
    "    y_pred = layer(x).ravel()\n",
    "\n",
    "    mse = torch.mean((y_pred - y) ** 2)\n",
    "\n",
    "    if i < 20 or i % 10 == 0:\n",
    "        print(f'MSE на шаге {i + 1} {mse.item():.5f}')\n",
    "\n",
    "    mse.backward()\n",
    "\n",
    "    with torch.no_grad():\n",
    "        layer.weight -= layer.weight.grad * step_size\n",
    "        layer.bias -= layer.bias.grad * step_size\n",
    "\n",
    "    #layer.weight.grad.zero_()\n",
    "    #layer.bias.grad.zero_()\n",
    "\n",
    "    layer.zero_grad()"
   ]
  },
  {
   "cell_type": "code",
   "execution_count": 80,
   "metadata": {},
   "outputs": [],
   "source": [
    "n_features = 5\n",
    "n_objects = 300\n",
    "\n",
    "torch.manual_seed(0)\n",
    "\n",
    "w_true = torch.randn(n_features)\n",
    "\n",
    "x = (torch.rand(n_objects, n_features) - 0.5) * 10 * (torch.arange(n_features) * 2 + 1)\n",
    "y = torch.matmul(x, w_true) + torch.randn(n_objects) + b_true"
   ]
  },
  {
   "cell_type": "code",
   "execution_count": 84,
   "metadata": {},
   "outputs": [],
   "source": [
    "n_steps = 2000\n",
    "step_size = 1e-3"
   ]
  },
  {
   "cell_type": "code",
   "execution_count": 85,
   "metadata": {},
   "outputs": [
    {
     "name": "stdout",
     "output_type": "stream",
     "text": [
      "MSE на шаге 1 1414.86731\n",
      "MSE на шаге 2 419.86896\n",
      "MSE на шаге 3 159.62801\n",
      "MSE на шаге 4 74.67896\n",
      "MSE на шаге 5 44.89977\n",
      "MSE на шаге 6 33.82288\n",
      "MSE на шаге 7 29.31109\n",
      "MSE на шаге 8 27.15300\n",
      "MSE на шаге 9 25.85730\n",
      "MSE на шаге 10 24.89039\n",
      "MSE на шаге 11 24.06001\n",
      "MSE на шаге 12 23.29631\n",
      "MSE на шаге 13 22.57343\n",
      "MSE на шаге 14 21.88140\n",
      "MSE на шаге 15 21.21599\n",
      "MSE на шаге 16 20.57511\n",
      "MSE на шаге 17 19.95743\n",
      "MSE на шаге 18 19.36193\n",
      "MSE на шаге 19 18.78776\n",
      "MSE на шаге 20 18.23408\n",
      "MSE на шаге 51 8.07849\n",
      "MSE на шаге 101 3.75577\n",
      "MSE на шаге 151 2.76450\n",
      "MSE на шаге 201 2.35355\n",
      "MSE на шаге 251 2.07960\n",
      "MSE на шаге 301 1.86465\n",
      "MSE на шаге 351 1.68972\n",
      "MSE на шаге 401 1.54632\n",
      "MSE на шаге 451 1.42860\n",
      "MSE на шаге 501 1.33195\n",
      "MSE на шаге 551 1.25258\n",
      "MSE на шаге 601 1.18741\n",
      "MSE на шаге 651 1.13389\n",
      "MSE на шаге 701 1.08995\n",
      "MSE на шаге 751 1.05386\n",
      "MSE на шаге 801 1.02423\n",
      "MSE на шаге 851 0.99990\n",
      "MSE на шаге 901 0.97992\n",
      "MSE на шаге 951 0.96351\n",
      "MSE на шаге 1001 0.95004\n",
      "MSE на шаге 1051 0.93898\n",
      "MSE на шаге 1101 0.92989\n",
      "MSE на шаге 1151 0.92243\n",
      "MSE на шаге 1201 0.91631\n",
      "MSE на шаге 1251 0.91128\n",
      "MSE на шаге 1301 0.90715\n",
      "MSE на шаге 1351 0.90375\n",
      "MSE на шаге 1401 0.90097\n",
      "MSE на шаге 1451 0.89868\n",
      "MSE на шаге 1501 0.89680\n",
      "MSE на шаге 1551 0.89526\n",
      "MSE на шаге 1601 0.89400\n",
      "MSE на шаге 1651 0.89296\n",
      "MSE на шаге 1701 0.89210\n",
      "MSE на шаге 1751 0.89140\n",
      "MSE на шаге 1801 0.89082\n",
      "MSE на шаге 1851 0.89035\n",
      "MSE на шаге 1901 0.88996\n",
      "MSE на шаге 1951 0.88965\n"
     ]
    }
   ],
   "source": [
    "layer = nn.Linear(in_features=n_features, out_features=1)\n",
    "\n",
    "for i in range(n_steps):\n",
    "    y_pred = layer(x).ravel()\n",
    "\n",
    "    mse = torch.mean((y_pred - y) ** 2)\n",
    "\n",
    "    if i < 20 or i % 50 == 0:\n",
    "        print(f'MSE на шаге {i + 1} {mse.item():.5f}')\n",
    "\n",
    "    mse.backward()\n",
    "\n",
    "    with torch.no_grad():\n",
    "        layer.weight -= layer.weight.grad * step_size\n",
    "        layer.bias -= layer.bias.grad * step_size\n",
    "\n",
    "    layer.zero_grad()"
   ]
  },
  {
   "cell_type": "code",
   "execution_count": 96,
   "metadata": {},
   "outputs": [],
   "source": [
    "n_steps = 2000\n",
    "step_size = 1e-4"
   ]
  },
  {
   "cell_type": "code",
   "execution_count": 97,
   "metadata": {},
   "outputs": [
    {
     "name": "stdout",
     "output_type": "stream",
     "text": [
      "MSE на шаге 1 1780.34583\n",
      "MSE на шаге 2 1759.66711\n",
      "MSE на шаге 3 1736.87573\n",
      "MSE на шаге 4 1711.84949\n",
      "MSE на шаге 5 1684.11829\n",
      "MSE на шаге 6 1653.97583\n",
      "MSE на шаге 7 1620.71631\n",
      "MSE на шаге 8 1584.32629\n",
      "MSE на шаге 9 1544.63318\n",
      "MSE на шаге 10 1501.49707\n",
      "MSE на шаге 11 1454.92859\n",
      "MSE на шаге 12 1404.15515\n",
      "MSE на шаге 13 1349.43018\n",
      "MSE на шаге 14 1291.54919\n",
      "MSE на шаге 15 1230.02795\n",
      "MSE на шаге 16 1165.01953\n",
      "MSE на шаге 17 1097.35339\n",
      "MSE на шаге 18 1027.20789\n",
      "MSE на шаге 19 955.09198\n",
      "MSE на шаге 20 881.48773\n",
      "MSE на шаге 51 90.35655\n",
      "MSE на шаге 101 26.31942\n",
      "MSE на шаге 151 20.26344\n",
      "MSE на шаге 201 16.39713\n",
      "MSE на шаге 251 13.51998\n",
      "MSE на шаге 301 11.24228\n",
      "MSE на шаге 351 9.39198\n",
      "MSE на шаге 401 7.88549\n",
      "MSE на шаге 451 6.66769\n",
      "MSE на шаге 501 5.67759\n",
      "MSE на шаге 551 4.86285\n",
      "MSE на шаге 601 4.21389\n",
      "MSE на шаге 651 3.69211\n",
      "MSE на шаге 701 3.27250\n",
      "MSE на шаге 751 2.93601\n",
      "MSE на шаге 801 2.66702\n",
      "MSE на шаге 851 2.45281\n",
      "MSE на шаге 901 2.28206\n",
      "MSE на шаге 951 2.14603\n",
      "MSE на шаге 1001 2.03749\n",
      "MSE на шаге 1051 1.95209\n",
      "MSE на шаге 1101 1.88518\n",
      "MSE на шаге 1151 1.83012\n",
      "MSE на шаге 1201 1.78486\n",
      "MSE на шаге 1251 1.74788\n",
      "MSE на шаге 1301 1.71740\n",
      "MSE на шаге 1351 1.69201\n",
      "MSE на шаге 1401 1.67059\n",
      "MSE на шаге 1451 1.65230\n",
      "MSE на шаге 1501 1.63531\n",
      "MSE на шаге 1551 1.62059\n",
      "MSE на шаге 1601 1.60749\n",
      "MSE на шаге 1651 1.59572\n",
      "MSE на шаге 1701 1.58501\n",
      "MSE на шаге 1751 1.57514\n",
      "MSE на шаге 1801 1.56594\n",
      "MSE на шаге 1851 1.55727\n",
      "MSE на шаге 1901 1.54903\n",
      "MSE на шаге 1951 1.54113\n"
     ]
    }
   ],
   "source": [
    "layer1 = nn.Linear(in_features=n_features, out_features=3)\n",
    "layer2 = nn.Linear(in_features=3, out_features=1)\n",
    "\n",
    "for i in range(n_steps):\n",
    "    y_pred = layer2(activation(layer1(x))).ravel()\n",
    "\n",
    "    mse = torch.mean((y_pred - y) ** 2)\n",
    "\n",
    "    if i < 20 or i % 50 == 0:\n",
    "        print(f'MSE на шаге {i + 1} {mse.item():.5f}')\n",
    "\n",
    "    mse.backward()\n",
    "\n",
    "    with torch.no_grad():\n",
    "        layer1.weight -= layer1.weight.grad * step_size\n",
    "        layer1.bias -= layer1.bias.grad * step_size\n",
    "        layer2.weight -= layer2.weight.grad * step_size\n",
    "        layer2.bias -= layer2.bias.grad * step_size\n",
    "\n",
    "    layer1.zero_grad()\n",
    "    layer2.zero_grad()"
   ]
  }
 ],
 "metadata": {
  "kernelspec": {
   "display_name": "Python 3 (ipykernel)",
   "language": "python",
   "name": "python3"
  },
  "language_info": {
   "codemirror_mode": {
    "name": "ipython",
    "version": 3
   },
   "file_extension": ".py",
   "mimetype": "text/x-python",
   "name": "python",
   "nbconvert_exporter": "python",
   "pygments_lexer": "ipython3",
   "version": "3.10.11"
  }
 },
 "nbformat": 4,
 "nbformat_minor": 2
}
