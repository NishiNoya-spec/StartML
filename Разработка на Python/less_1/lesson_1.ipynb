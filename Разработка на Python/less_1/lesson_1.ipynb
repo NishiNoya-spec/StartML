{
 "cells": [
  {
   "cell_type": "code",
   "execution_count": 1,
   "metadata": {},
   "outputs": [],
   "source": [
    "import pandas as pd"
   ]
  },
  {
   "cell_type": "code",
   "execution_count": 2,
   "metadata": {},
   "outputs": [
    {
     "data": {
      "text/plain": [
       "16"
      ]
     },
     "execution_count": 2,
     "metadata": {},
     "output_type": "execute_result"
    }
   ],
   "source": [
    "a = pow(2, 4)\n",
    "a"
   ]
  },
  {
   "cell_type": "code",
   "execution_count": 3,
   "metadata": {},
   "outputs": [],
   "source": [
    "tasks = {\n",
    "    1: [\"Полить цветы\", \"Забрать посылку\", \"кот\"],\n",
    "    0: [\"Покормить кота\", \"коты\"],\n",
    "    2: [\"Почитать книгу по программированию\"],\n",
    "    3: [\"Ответить на письмо двоюродной тети\"], \n",
    "    4: [\"КотКоткот\", \"КотКоткот\"]\n",
    "}"
   ]
  },
  {
   "cell_type": "code",
   "execution_count": 4,
   "metadata": {},
   "outputs": [
    {
     "name": "stdout",
     "output_type": "stream",
     "text": [
      "есть срочные дела\n"
     ]
    }
   ],
   "source": [
    "if 0 in tasks.keys():\n",
    "    print('есть срочные дела')\n",
    "else:\n",
    "    print('можно отдохнуть')"
   ]
  },
  {
   "cell_type": "code",
   "execution_count": 5,
   "metadata": {},
   "outputs": [
    {
     "data": {
      "text/plain": [
       "[['Полить цветы', 'Забрать посылку', 'кот'],\n",
       " ['Покормить кота', 'коты'],\n",
       " ['Почитать книгу по программированию'],\n",
       " ['Ответить на письмо двоюродной тети'],\n",
       " ['КотКоткот', 'КотКоткот']]"
      ]
     },
     "execution_count": 5,
     "metadata": {},
     "output_type": "execute_result"
    }
   ],
   "source": [
    "values = []\n",
    "for task in tasks.values():\n",
    "    values.append(task)\n",
    "values"
   ]
  },
  {
   "cell_type": "code",
   "execution_count": 6,
   "metadata": {},
   "outputs": [
    {
     "data": {
      "text/plain": [
       "['Полить цветы',\n",
       " 'Забрать посылку',\n",
       " 'кот',\n",
       " 'Покормить кота',\n",
       " 'коты',\n",
       " 'Почитать книгу по программированию',\n",
       " 'Ответить на письмо двоюродной тети',\n",
       " 'КотКоткот',\n",
       " 'КотКоткот']"
      ]
     },
     "execution_count": 6,
     "metadata": {},
     "output_type": "execute_result"
    }
   ],
   "source": [
    "doings = []\n",
    "for task in tasks.values():\n",
    "    for doing in task:\n",
    "        doings.append(doing)\n",
    "doings"
   ]
  },
  {
   "cell_type": "code",
   "execution_count": 7,
   "metadata": {},
   "outputs": [
    {
     "data": {
      "text/plain": [
       "['кот', 'Покормить кота', 'коты', 'КотКоткот', 'КотКоткот']"
      ]
     },
     "execution_count": 7,
     "metadata": {},
     "output_type": "execute_result"
    }
   ],
   "source": [
    "answer = []\n",
    "for task in tasks.values():\n",
    "    for doing in task:\n",
    "        if 'кот' in doing:\n",
    "            answer.append(doing)\n",
    "answer"
   ]
  },
  {
   "cell_type": "code",
   "execution_count": 8,
   "metadata": {},
   "outputs": [
    {
     "data": {
      "text/plain": [
       "['кот', 'Покормить кота']"
      ]
     },
     "execution_count": 8,
     "metadata": {},
     "output_type": "execute_result"
    }
   ],
   "source": [
    "answer = []\n",
    "enough = False\n",
    "for priority in tasks.keys():\n",
    "    if not enough:\n",
    "        if priority < 2:\n",
    "            for task in tasks[priority]:\n",
    "                if len(answer) < 2:\n",
    "                    if 'кот' in task:\n",
    "                        answer.append(task)\n",
    "                else:\n",
    "                    enough = True\n",
    "                    break\n",
    "answer"
   ]
  },
  {
   "cell_type": "code",
   "execution_count": 9,
   "metadata": {},
   "outputs": [
    {
     "data": {
      "text/plain": [
       "{1: ['Полить цветы', 'Забрать посылку', 'кот'],\n",
       " 0: ['Покормить кота', 'коты'],\n",
       " 2: ['Почитать книгу по программированию'],\n",
       " 3: ['Ответить на письмо двоюродной тети'],\n",
       " 4: ['КотКоткот']}"
      ]
     },
     "execution_count": 9,
     "metadata": {},
     "output_type": "execute_result"
    }
   ],
   "source": [
    "new_tasks = {}\n",
    "for key in tasks.keys():\n",
    "    new_tasks[key] = list(set(tasks[key]))\n",
    "new_tasks"
   ]
  }
 ],
 "metadata": {
  "kernelspec": {
   "display_name": "Python 3 (ipykernel)",
   "language": "python",
   "name": "python3"
  }
 },
 "nbformat": 4,
 "nbformat_minor": 2
}
