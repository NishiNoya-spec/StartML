{
 "cells": [
  {
   "cell_type": "code",
   "execution_count": 1,
   "metadata": {},
   "outputs": [
    {
     "name": "stdout",
     "output_type": "stream",
     "text": [
      "6 2\n"
     ]
    }
   ],
   "source": [
    "from random import randrange\n",
    "\n",
    "class Auto():\n",
    "    def __init__(self, color: str, signal: int):\n",
    "        self.color = color\n",
    "        self.signal = signal\n",
    "\n",
    "    def signalist(self):\n",
    "        print(randrange(1, 10), self.signal)\n",
    "\n",
    "red = Auto('red', 2)\n",
    "red.signalist()"
   ]
  },
  {
   "cell_type": "markdown",
   "metadata": {},
   "source": [
    "#### 1\n",
    "Напишите класс Triangle, который будет иметь 3 поля: a, b, c (стороны треугольника) и n_dots = 3 (количество точек). Поле n_dots объявите на уровне класса, не в конструкторе — чтобы оно было доступно без создания объекта (т.е. работал вызов Triangle.n_dots). Добавьте в класс простой конструктор, принимающий на вход все три стороны и сохраняющий эти стороны в соответсвующие поля класса.\n",
    "\n",
    "Создайте объекты этого класса со следующими названиями: tr_1, tr_2 и любыми значениями длин сторон."
   ]
  },
  {
   "cell_type": "code",
   "execution_count": 18,
   "metadata": {},
   "outputs": [],
   "source": [
    "class Triangle:\n",
    "    n_dots = 3  # количество точек\n",
    "\n",
    "    def __init__(self, a, b, c):\n",
    "        self.a = a\n",
    "        self.b = b\n",
    "        self.c = c\n",
    "\n",
    "tr_1 = Triangle(1, 2, 3)\n",
    "tr_2 = Triangle(4, 5, 6)"
   ]
  },
  {
   "cell_type": "markdown",
   "metadata": {},
   "source": [
    "#### 2\n",
    "Возьмите класс Triangle из предыдущего задания и добавьте метод area(), возвращающий площадь треугольника. Напомним, что при известных трех сторонах площадь треугольника можно подсчитать по формуле Герона: S= \n",
    "p(p−a)(p−b)(p−c)\n",
    "​\n",
    " , где p= \n",
    "2\n",
    "1\n",
    "​\n",
    " (a+b+c) — полупериметр. Подумайте, как можно организовать код так, чтобы p считалась один раз.\n",
    "\n",
    "Затем поменяйте конструктор: он должен проверять, что выполнено неравенство треугольника - каждая сторона меньше  суммы двух других. Если это условие не выполнено, выбрасывайте ValueError с текстом \"triangle inequality does not hold\" (передайте эту строку в конструктор ValueError).\n",
    "\n",
    "Наконец, создайте два объекта данного класса с названиями tr_1 и tr_2 , в которых соблюдается неравенство треугольника. Также, сохраните в переменные square_1 и square_2 результаты вызовов методов .area() для объектов tr_1 и tr_2 соответственно."
   ]
  },
  {
   "cell_type": "code",
   "execution_count": 21,
   "metadata": {},
   "outputs": [
    {
     "name": "stdout",
     "output_type": "stream",
     "text": [
      "Площадь треугольника tr_1: 6.0\n",
      "Площадь треугольника tr_2: 10.825317547305483\n"
     ]
    }
   ],
   "source": [
    "class Triangle:\n",
    "    n_dots = 3  # количество точек\n",
    "\n",
    "    def __init__(self, a, b, c):\n",
    "        if a + b <= c or a + c <= b or b + c <= a:\n",
    "            raise ValueError(\"triangle inequality does not hold\")\n",
    "        self.a = a\n",
    "        self.b = b\n",
    "        self.c = c\n",
    "        self._semiperimeter = (a + b + c) / 2  # полупериметр\n",
    "\n",
    "    def area(self):\n",
    "        p = self._semiperimeter\n",
    "        return (p * (p - self.a) * (p - self.b) * (p - self.c)) ** 0.5\n",
    "\n",
    "# Создание объектов и вычисление площадей\n",
    "try:\n",
    "    tr_1 = Triangle(3, 4, 5)\n",
    "    square_1 = tr_1.area()\n",
    "    print(\"Площадь треугольника tr_1:\", square_1)\n",
    "except ValueError as e:\n",
    "    print(e)\n",
    "\n",
    "try:\n",
    "    tr_2 = Triangle(5, 5, 5)\n",
    "    square_2 = tr_2.area()\n",
    "    print(\"Площадь треугольника tr_2:\", square_2)\n",
    "except ValueError as e:\n",
    "    print(e)\n"
   ]
  },
  {
   "cell_type": "markdown",
   "metadata": {},
   "source": [
    "#### 3\n",
    "Создайте класс Rectangle (прямоугольник), который будет наследоваться от класса Triangle. Сделайте так, чтобы area(), конструктор и поле n_dots были верными. А именно:\n",
    "\n",
    "Конструктор должен принимать 2 стороны: a, b\n",
    "area() должен считать площадь как произведение смежных сторон: S=ab\n",
    "Неравенство треугольника не нужно проверять.\n",
    "n_dots должен быть объявлен на уровне класса и равняться 4."
   ]
  },
  {
   "cell_type": "code",
   "execution_count": 23,
   "metadata": {},
   "outputs": [],
   "source": [
    "class Rectangle(Triangle):\n",
    "    n_dots = 4\n",
    "\n",
    "    def __init__(self, a , b):\n",
    "        self.a = a\n",
    "        self.b = b\n",
    "\n",
    "    def area(self):\n",
    "        return self.a * self.b\n"
   ]
  },
  {
   "cell_type": "markdown",
   "metadata": {},
   "source": [
    "#### 4\n",
    "Вы, наверно, заметили, что при наследовании в прошлом задании мы переписали почти всю логику. Это плохо: при наследовании нужно расширять класс, а не переписывать его.\n",
    "\n",
    "Но все же хочется использовать наследование, ведь треугольники и прямоугольники имеют общие свойства: \n",
    "\n",
    "Оба характеризуются количеством точек n_dots.\n",
    "Оба имеют метод area().\n",
    "Оба имеют проверки на валидность данных. В случае прямоугольника это было равенство противоположных сторон, которое мы пропустили благодаря трюку: вместо принятия четырех сторон a, b, c, d на вход мы принимали две и далее держали в уме a=c, b=d. В случае треугольника это было неравенство треугольника.\n",
    "Тут нам поможет создание некой \"базовой фигуры\". Это будет сборник общих свойств, который сам по себе не будет представлять никакую фигуру, но послужит хорошим плацдармом для следующих классов.\n",
    "\n",
    "Напишите класс BaseFigure, который имеет поле класса (т.е. на уровне класса) n_dots = None, метод area() \"без реализации\", метод validate() \"без реализации\". Сделайте так, чтобы методы \"без реализации\" выбрасывали исключение NotImplementedError при их вызове и ничего другого не делали. Создайте также конструктор класса, который не принимает дополнительных аргументов и в реализации только лишь вызывает self.validate()."
   ]
  },
  {
   "cell_type": "code",
   "execution_count": 44,
   "metadata": {},
   "outputs": [],
   "source": [
    "class BaseFigure:\n",
    "    n_dots = None\n",
    "    \n",
    "    def __init__(self):\n",
    "        self.validate()\n",
    "\n",
    "    def area(self):\n",
    "        raise NotImplementedError\n",
    "\n",
    "    def validate(self):\n",
    "        raise NotImplementedError\n",
    "\n"
   ]
  },
  {
   "cell_type": "markdown",
   "metadata": {},
   "source": [
    "#### 5\n",
    "Перепишите классы Triangle, Rectangle так, чтобы они наследовались от BaseFigure. Затем уберите реализацию всех методов и конструкторов в классах-потомках.\n",
    "\n",
    "Есть ли у Triangle, Rectangle методы area, validate? Если есть, то что они возвращают при вызове?"
   ]
  },
  {
   "cell_type": "code",
   "execution_count": 49,
   "metadata": {},
   "outputs": [],
   "source": [
    "class Triangle(BaseFigure):\n",
    "    n_dots = 3\n",
    "\n",
    "    def __init__(self, a, b, c):\n",
    "        super().__init__()\n",
    "\n",
    "    # Методы area и validate не реализованы в этом классе\n",
    "\n",
    "\n",
    "class Rectangle(BaseFigure):\n",
    "    n_dots = 4\n",
    "\n",
    "    def __init__(self, a, b):\n",
    "        super().__init__()\n",
    "\n",
    "    "
   ]
  },
  {
   "cell_type": "markdown",
   "metadata": {},
   "source": [
    "#### 6\n",
    "Возьмите классы Triangle и Rectangle из прошлого задания.\n",
    "\n",
    "Переопределите метод area в каждом случае.\n",
    "Переопределите конструктор в каждом случае (число аргументов тоже меняется). Не забудьте в конструкторе дочернего класса вызвать конструктор родительского класса!\n",
    "Переопределите метод validate в каждом случае. Метод validate должен принимать только аргумент self и использовать созданные в конструкторе переменные. Для этого вы можете сначала сохранять в конструкторе входные данные в self.переменная, а затем вызывать конструктор суперкласса. Для Triangle данный метод должен проверять неравенство треугольника и выбрасывать ошибку ValueError(\"triangle inequality does not hold\") либо возвращать значения сторон. Для Rectangle данный метод должен возвращать значения сторон.\n",
    "В итоге вы получите два класса, которые построены по схожему шаблону. Этот общий шаблон был задан в классе BaseFigure. Создайте несколько объектов этих классов и попробуйте вызвать у них .area(), .validate(). Если вы пользуетесь IDE, то увидите интерактивные подсказки: она скажет, что такие методы есть и что эти методы перегружают (overload) методы из родительского класса. При этом вызов методов будет работать коррректно."
   ]
  },
  {
   "cell_type": "code",
   "execution_count": 58,
   "metadata": {},
   "outputs": [],
   "source": [
    "class Triangle(BaseFigure):\n",
    "    n_dots = 3\n",
    "\n",
    "    def __init__(self, a, b, c):\n",
    "        self.a = a\n",
    "        self.b = b\n",
    "        self.c = c\n",
    "        self._semiperimeter = (a + b + c) / 2\n",
    "        super().__init__()\n",
    "\n",
    "    def area(self):\n",
    "        p = self._semiperimeter\n",
    "        return (p * (p - self.a) * (p - self.b) * (p - self.c)) ** 0.5\n",
    "    \n",
    "    def validate(self):\n",
    "        if self.a + self.b <= self.c or self.a + self.c <= self.b or self.c + self.b <= self.a:\n",
    "            raise ValueError(\"triangle inequality does not hold\")\n",
    "        else:\n",
    "            return self.a, self.b, self.b\n",
    "        \n",
    "\n",
    "class Rectangle(BaseFigure):\n",
    "    n_dots = 4\n",
    "\n",
    "    def __init__(self, a, b):\n",
    "        self.a = a\n",
    "        self.b = b\n",
    "        super().__init__()\n",
    "\n",
    "    def area(self):\n",
    "        return self.a * self.b\n",
    "    \n",
    "    def validate(self):\n",
    "        return self.a, self.b\n"
   ]
  },
  {
   "cell_type": "markdown",
   "metadata": {},
   "source": [
    "#### 7\n",
    "Попробуем собрать совершенно новый класс, используя BaseFigure в качестве шаблона.\n",
    "\n",
    "Напишите класс Circle, в котором в качестве n_dots будет float('inf'), area будет считаться как 3.14 * r^2, а конструктор будет принимать только один аргумент - r. Метод validate не должен принимать никаких аргументов и не должен осуществлять никаких проверок."
   ]
  },
  {
   "cell_type": "code",
   "execution_count": 65,
   "metadata": {},
   "outputs": [],
   "source": [
    "class Circle(BaseFigure):\n",
    "    n_dots = float('inf')\n",
    "\n",
    "    def __init__(self, r):\n",
    "        self.r = r\n",
    "        super().__init__()\n",
    "\n",
    "    def area(self):\n",
    "        return 3.14 * (self.r ** 2)\n",
    "    \n",
    "    def validate(self):\n",
    "        pass\n"
   ]
  },
  {
   "cell_type": "markdown",
   "metadata": {},
   "source": [
    "#### 8\n",
    "Напишите класс Vector, который на вход будет принимать список координат (x \n",
    "1\n",
    "​\n",
    " ,…,x \n",
    "n\n",
    "​\n",
    " ). Положите все координаты вектора в список self.coords.\n",
    "\n",
    "Добейтесь того, чтобы объекты класса Vector можно было складывать через оператор + и получать на выходе тоже объект этого же класса."
   ]
  },
  {
   "cell_type": "code",
   "execution_count": 100,
   "metadata": {},
   "outputs": [],
   "source": [
    "class Vector:\n",
    "    def __init__(self, coords):\n",
    "        self.coords = coords\n",
    "\n",
    "    def __add__(self, other):\n",
    "        if len(self.coords) != len(other.coords):\n",
    "            raise ValueError(f\"left and right lengths differ: {len(self.coords)} != {len(other.coords)}\")\n",
    "        result_vector = [x + y for x, y in zip(self.coords, other.coords)]\n",
    "        return Vector(result_vector)\n",
    "    \n",
    "    def __str__(self):\n",
    "        return f\"Vector({self.coords})\"\n",
    "\n"
   ]
  },
  {
   "cell_type": "markdown",
   "metadata": {},
   "source": [
    "#### 9\n",
    "> Добавим могущества нашему вектору.\n",
    ">Добавьте методу красивый вывод при передаче его в print(...). \n",
    ">print(Vector([1, 2, 3]))\n",
    ">Напечатает: \"[1, 2, 3]\" без кавычек\n",
    ">vec = Vector([1])\n",
    "print(vec)\n",
    "Напечатает \"[1]\" без кавычек\n"
   ]
  },
  {
   "cell_type": "code",
   "execution_count": 99,
   "metadata": {},
   "outputs": [
    {
     "name": "stdout",
     "output_type": "stream",
     "text": [
      "[1, 2, 5]\n"
     ]
    }
   ],
   "source": [
    "class Vector:\n",
    "    def __init__(self, coords):\n",
    "        self.coords = coords\n",
    "\n",
    "    def __add__(self, other):\n",
    "        if len(self.coords) != len(other.coords):\n",
    "            raise ValueError(f\"left and right lengths differ: {len(self.coords)} != {len(other.coords)}\")\n",
    "        result_vector = [x + y for x, y in zip(self.coords, other.coords)]\n",
    "        return Vector(result_vector)\n",
    "    \n",
    "    def __str__(self):\n",
    "        return f\"{self.coords}\""
   ]
  },
  {
   "cell_type": "markdown",
   "metadata": {},
   "source": [
    "#### 10\n",
    "> Магические методы: вектор (3/4)\n",
    "Продолжаем улучшать вектор. Добавьте в класс возможность умножать вектор на вектор и вектор на число. Не забудьте сохранять координаты вектора в self.coords."
   ]
  },
  {
   "cell_type": "code",
   "execution_count": 260,
   "metadata": {},
   "outputs": [],
   "source": [
    "class Vector:\n",
    "    def __init__(self, coords):\n",
    "        self.coords = coords\n",
    "        \n",
    "    def _valid_lengths(self, other):\n",
    "        if isinstance(other, Vector):\n",
    "            if len(self.coords) != len(other.coords):\n",
    "                raise ValueError(f\"left and right lengths differ: {len(self.coords)} != {len(other.coords)}\")\n",
    "\n",
    "    def __add__(self, other):\n",
    "        self._valid_lengths(other)\n",
    "        new_coords = [x + y for x, y in zip(self.coords, other.coords)]\n",
    "        return Vector(new_coords)\n",
    "\n",
    "    def __mul__(self, other):\n",
    "        if isinstance(other, Vector):\n",
    "            self._valid_lengths(other)\n",
    "            new_coords = [x * y for x, y in zip(self.coords, other.coords)]  \n",
    "            return sum(new_coords)\n",
    "        elif isinstance(other, (int, float)):\n",
    "            new_coords = [x * other for x in self.coords]\n",
    "            return Vector(new_coords)\n",
    "        else:\n",
    "            raise TypeError(\"Неверный тип опреанда\")  \n",
    "\n",
    "    def __str__(self):\n",
    "        return f\"{self.coords}\""
   ]
  },
  {
   "cell_type": "markdown",
   "metadata": {},
   "source": [
    "#### 11\n",
    "> Магические методы: вектор (4/4)\n",
    "Последние штрихи для нашего вектора.\n",
    "\n",
    "Добавьте в класс возможности сравнивать два вектора между собой и считать abs (это длина вектора, в Евклидовой метрике)."
   ]
  },
  {
   "cell_type": "code",
   "execution_count": 285,
   "metadata": {},
   "outputs": [],
   "source": [
    "class Vector:\n",
    "    def __init__(self, coords):\n",
    "        self.coords = coords\n",
    "        \n",
    "    def _valid_lengths(self, other):\n",
    "        if isinstance(other, Vector):\n",
    "            if len(self.coords) != len(other.coords):\n",
    "                raise ValueError(f\"left and right lengths differ: {len(self.coords)} != {len(other.coords)}\")\n",
    "\n",
    "    def __add__(self, other):\n",
    "        self._valid_lengths(other)\n",
    "        new_coords = [x + y for x, y in zip(self.coords, other.coords)]\n",
    "        return Vector(new_coords)\n",
    "\n",
    "    def __mul__(self, other):\n",
    "        if isinstance(other, Vector):\n",
    "            self._valid_lengths(other)\n",
    "            new_coords = [x * y for x, y in zip(self.coords, other.coords)]  \n",
    "            return sum(new_coords)\n",
    "        elif isinstance(other, (int, float)):\n",
    "            new_coords = [x * other for x in self.coords]\n",
    "            return Vector(new_coords)\n",
    "        else:\n",
    "            raise TypeError(\"Неверный тип опреанда\")  \n",
    "        \n",
    "    def __eq__(self, other):\n",
    "        if not isinstance(other, Vector) or len(self.coords) != len(other.coords):\n",
    "            return False\n",
    "        else:\n",
    "            return all(x == y for x, y in zip(self.coords, other.coords))\n",
    "\n",
    "    def __abs__(self):\n",
    "        return sum([x**2 for x in self.coords]) ** 0.5\n",
    "\n",
    "    def __str__(self):\n",
    "        return f\"{self.coords}\""
   ]
  },
  {
   "cell_type": "markdown",
   "metadata": {},
   "source": [
    "#### 12\n",
    "Вас перевели из тех.директора сложного проекта в бекенд-разработчика. Встала задача разработать класс, которому на вход будет приходить разобранный запрос от пользователя. Запрос имеет вид:\n",
    "\n",
    "```python\n",
    "\n",
    "# будет приходить запрос в виде словаря\n",
    "request = {\n",
    "  \"cookies\": {key_1: value_1, key_2: value_2, ...},\n",
    "  \"body\": \"a long time ago, in a Galaxy far, far away\",\n",
    "  \"headers\": {\"content-type\": \"application/json\", \"Accept\": \"application/json\"}\n",
    "}\n",
    "\n",
    "# и этот словарь будет передаваться в конструктор класса\n",
    "handler = Handler(request)\n",
    "\n",
    "```\n",
    "\n",
    "Разным классам в приложении потребуется разная функциональность: кому-то потребуется проверять, есть ли в headers ключ \"Accept\", кому-то потребуется читать body, а кому-то понадобится проверять пустоту cookies. Будут и классы, которым потребуется несколько возможностей сразу.\n",
    "\n",
    "Напишите классы ParsesCookies, ParsesBody, ParsesHeaders по условиям:\n",
    "\n",
    "Класс ParsesCookies имеет метод cookies(), возвращающий все по ключу cookies из словаря self.request.\n",
    "Класс ParsesCookies имеет метод is_authed(), который будет проверять, что в словаре cookies будет ключ auth_key (ни в коем случае не используйте такую авторизацию в реальных проектах).\n",
    "Класс ParsesBody имеет метод body(), возвращающий текст по ключу body в self.request.\n",
    "Класс ParsesHeaders имеет метод headers(), возвращающий все по ключу headers из словаря self.request.\n",
    "Класс ParsesHeaders имеет метод need_json(), который возвращает True, если в headers по ключу \"content-type\" лежит значение \"application/json\", иначе False."
   ]
  },
  {
   "cell_type": "code",
   "execution_count": 337,
   "metadata": {},
   "outputs": [],
   "source": [
    "# будет приходить запрос в виде словаря\n",
    "request = {\n",
    "  \"cookies\": {'key_1': 'value_1', 'key_2': 'value_2'},\n",
    "  \"body\": \"a long time ago, in a Galaxy far, far away\",\n",
    "  \"headers\": {\"content-type\": \"application/json\", \"Accept\": \"application/json\"},\n",
    "  \"auth_key\": {1, 5}\n",
    "}\n"
   ]
  },
  {
   "cell_type": "code",
   "execution_count": 417,
   "metadata": {},
   "outputs": [],
   "source": [
    "class ParsesCookies:\n",
    "\n",
    "    def cookies(self):\n",
    "        return self.request.get('cookies', {})\n",
    "\n",
    "    def is_authed(self):\n",
    "        return 'auth_key' in self.cookies()\n",
    "\n",
    "\n",
    "class ParsesBody:\n",
    "\n",
    "    def body(self):\n",
    "        return self.request.get('body', '')\n",
    "\n",
    "\n",
    "class ParsesHeaders:\n",
    "\n",
    "    def headers(self):\n",
    "        return self.request.get('headers', {})\n",
    "\n",
    "    def need_json(self):\n",
    "        content_type = self.request.get('headers', {}).get('content-type', '')\n",
    "        return content_type == \"application/json\"\n"
   ]
  },
  {
   "cell_type": "markdown",
   "metadata": {},
   "source": [
    "#### 13\n",
    "\n",
    "Используя миксины из прошлого пункта, напишите класс JsonHandler, который будет наследоваться от классов ParsesBody и ParsesHeaders , иметь метод process() и конструктор, принимающий аргумент request и сохраняющий в self.request. В этом задании нужно использовать библиотеку json.\n",
    "\n",
    "Метод process() должен работать следующим образом:\n",
    "\n",
    "Если need_json() дает False, то возвращать None\n",
    "Иначе получать тело через body(), пытаться считать его как json.loads(...) и возвращать число ключей в словаре. Если считать не удалось, то вернуть None.\n",
    "Отправьте реализацию класса JsonHandler в LMS. Классы ParsesBody и ParsesHeaders отправлять не нужно.\n",
    "\n",
    "Обратите внимание, что с помощью миксин функциональность проверки headers и получения body была вынесена за JsonHandler - наш класс сосредоточился именно на обработке.\n",
    "\n",
    "```python\n",
    "\n",
    "# Пример использования\n",
    "r = {'body': '{\"a\": 123, \"b\": 1234}',\n",
    "     'headers': {'content-type': 'application/json'}\n",
    "    }\n",
    "print(JsonHandler(r).process())\n",
    "\n",
    "```"
   ]
  },
  {
   "cell_type": "code",
   "execution_count": 418,
   "metadata": {},
   "outputs": [],
   "source": [
    "import json\n",
    "\n",
    "class JsonHandler(ParsesBody, ParsesHeaders):\n",
    "    def __init__(self, request):\n",
    "        self.request = request\n",
    "\n",
    "    def process(self):\n",
    "        if not self.need_json():\n",
    "            return None\n",
    "        else:\n",
    "            body_data = self.body()\n",
    "            try:\n",
    "                json_data = json.loads(body_data)\n",
    "                if isinstance(json_data, dict):\n",
    "                    return len(json_data)\n",
    "                else:\n",
    "                    return None\n",
    "            except json.JSONDecodeError:\n",
    "                return None"
   ]
  },
  {
   "cell_type": "code",
   "execution_count": 419,
   "metadata": {},
   "outputs": [
    {
     "name": "stdout",
     "output_type": "stream",
     "text": [
      "2\n"
     ]
    }
   ],
   "source": [
    "# Пример использования\n",
    "r = {'body': '{\"a\": 123, \"b\": 1234}',\n",
    "     'headers': {'content-type': 'application/json'}\n",
    "    }\n",
    "print(JsonHandler(r).process())"
   ]
  },
  {
   "cell_type": "markdown",
   "metadata": {},
   "source": [
    "#### 14\n",
    "Используя миксины из прошлого пункта, напишите класс SecureTextHandler, который будет наследоваться от классов ParsesBody и ParsesCookies , иметь метод process() и конструктор, принимающий один аргумент и сохраняющий его в нужное поле класса.\n",
    "\n",
    "Метод process() должен работать следующим образом:\n",
    "\n",
    "Если is_authed() дает False, то возвращать None.\n",
    "Иначе получать тело через body() и возвращать его длину.\n",
    "Добейтесь работоспособности на примере и реализацию класса SecureTextHandler отправьте в LMS. Классы ParsesBody и ParsesHeaders, ParsesCookie отправлять не нужно."
   ]
  },
  {
   "cell_type": "code",
   "execution_count": 420,
   "metadata": {},
   "outputs": [],
   "source": [
    "class SecureTextHandler(ParsesBody, ParsesCookies):\n",
    "    def __init__(self, request):\n",
    "        self.request = request\n",
    "\n",
    "    def process(self):\n",
    "        if not self.is_authed():\n",
    "            return None\n",
    "        else:\n",
    "            return len(self.body())"
   ]
  },
  {
   "cell_type": "code",
   "execution_count": 416,
   "metadata": {},
   "outputs": [
    {
     "name": "stdout",
     "output_type": "stream",
     "text": [
      "5\n",
      "None\n"
     ]
    }
   ],
   "source": [
    "# Примеры\n",
    "r = {'cookies': {'auth_key': '123'},\n",
    "     'body': 'hello'\n",
    "    }\n",
    "print(SecureTextHandler(r).process())\n",
    "# 5\n",
    "\n",
    "r = {'cookies': {},\n",
    "     'body': 'hello'\n",
    "    }\n",
    "print(SecureTextHandler(r).process())\n",
    "# None"
   ]
  }
 ],
 "metadata": {
  "kernelspec": {
   "display_name": "aggregate",
   "language": "python",
   "name": "aggregate"
  },
  "language_info": {
   "codemirror_mode": {
    "name": "ipython",
    "version": 3
   },
   "file_extension": ".py",
   "mimetype": "text/x-python",
   "name": "python",
   "nbconvert_exporter": "python",
   "pygments_lexer": "ipython3",
   "version": "3.9.6"
  }
 },
 "nbformat": 4,
 "nbformat_minor": 2
}
