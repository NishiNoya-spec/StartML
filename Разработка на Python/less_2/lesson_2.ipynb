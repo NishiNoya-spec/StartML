{
 "cells": [
  {
   "cell_type": "code",
   "execution_count": 91,
   "metadata": {},
   "outputs": [
    {
     "data": {
      "text/plain": [
       "9812.5"
      ]
     },
     "execution_count": 91,
     "metadata": {},
     "output_type": "execute_result"
    }
   ],
   "source": [
    "def circle_square(radius):\n",
    "    return 3.14*(radius**radius)\n",
    "\n",
    "circle_square(5)"
   ]
  },
  {
   "cell_type": "code",
   "execution_count": 100,
   "metadata": {},
   "outputs": [
    {
     "name": "stdout",
     "output_type": "stream",
     "text": [
      "[(1, 5), (3, 8), (35, 2), (7, 9)]\n"
     ]
    }
   ],
   "source": [
    "def zip_(list1, list2):\n",
    "    combined_list = list1 + list2\n",
    "    result = []\n",
    "    for i in range(0, len(combined_list), 2):\n",
    "        result.append(tuple(combined_list[i:i+2]))\n",
    "    return result\n",
    "\n",
    "result = zip_([1, 5, 3, 8, 35], [2, 7, 9])\n",
    "print(result)"
   ]
  },
  {
   "cell_type": "code",
   "execution_count": 107,
   "metadata": {},
   "outputs": [
    {
     "name": "stdout",
     "output_type": "stream",
     "text": [
      "[(1, 2), (5, 7), (3, 9)]\n"
     ]
    }
   ],
   "source": [
    "def zip_(list_1, list_2):\n",
    "    min_len = min(len(list_1), len(list_2))\n",
    "    result = []\n",
    "    for i in range(0, min_len, 1):\n",
    "        result.append((list_1[i], list_2[i]))\n",
    "    return result\n",
    "\n",
    "result = zip_([1, 5, 3, 8, 35], [2, 7, 9])\n",
    "print(result)"
   ]
  },
  {
   "cell_type": "code",
   "execution_count": 110,
   "metadata": {},
   "outputs": [
    {
     "data": {
      "text/plain": [
       "1377.01"
      ]
     },
     "execution_count": 110,
     "metadata": {},
     "output_type": "execute_result"
    }
   ],
   "source": [
    "def final_balance(init_sum, interest_rate, years, round_num=2):\n",
    "    return round(init_sum * ((100 + interest_rate) / 100)**years, round_num)\n",
    "\n",
    "final_balance(1000, 5, 10)\n",
    "final_balance(700, 7, 10)"
   ]
  },
  {
   "cell_type": "code",
   "execution_count": 121,
   "metadata": {},
   "outputs": [
    {
     "name": "stdout",
     "output_type": "stream",
     "text": [
      "###\n",
      "[1, 8, 27, 64]\n",
      "###\n",
      "###\n",
      "[1, 1, 6, 1]\n",
      "###\n",
      "###\n",
      "[2, 3, 9, 5]\n",
      "###\n"
     ]
    },
    {
     "data": {
      "text/plain": [
       "[2, 3, 9, 5]"
      ]
     },
     "execution_count": 121,
     "metadata": {},
     "output_type": "execute_result"
    }
   ],
   "source": [
    "def math_task(data):\n",
    "    answer = []\n",
    "    # возводим в куб\n",
    "    for elem in data:\n",
    "        answer += [elem ** 3]\n",
    "    print(\"###\")\n",
    "    print(answer)\n",
    "    print(\"###\")\n",
    "\n",
    "    # берем остаток от деления на 7\n",
    "    for i in range(len(answer)):\n",
    "        answer[i] = answer[i] % 7\n",
    "    print(\"###\")\n",
    "    print(answer)\n",
    "    print(\"###\")\n",
    "\n",
    "    # прибавляем к остатку изначальный массив\n",
    "    for i in range(len(answer)):\n",
    "        answer[i] = answer[i] + data[i]\n",
    "    print(\"###\")\n",
    "    print(answer)\n",
    "    print(\"###\")\n",
    "\n",
    "    # возвращаем результат\n",
    "    return answer\n",
    "\n",
    "# вызов функции с тестовыми данными\n",
    "test_data = [1, 2, 3, 4]\n",
    "math_task(test_data)"
   ]
  },
  {
   "cell_type": "code",
   "execution_count": 122,
   "metadata": {},
   "outputs": [
    {
     "name": "stdout",
     "output_type": "stream",
     "text": [
      "###\n",
      "[1, 8, 27, 64]\n",
      "###\n",
      "###\n",
      "[1, 1, 6, 1]\n",
      "###\n",
      "###\n",
      "[2, 3, 9, 5]\n",
      "###\n"
     ]
    },
    {
     "data": {
      "text/plain": [
       "[2, 3, 9, 5]"
      ]
     },
     "execution_count": 122,
     "metadata": {},
     "output_type": "execute_result"
    }
   ],
   "source": [
    "def print_array(array):\n",
    "    print(\"###\")\n",
    "    print(array)\n",
    "    print(\"###\")\n",
    "\n",
    "def math_task(data):\n",
    "    answer = []\n",
    "    # возводим в куб\n",
    "    for elem in data:\n",
    "        answer += [elem ** 3]\n",
    "    print_array(answer)\n",
    "\n",
    "    # берем остаток от деления на 7\n",
    "    for i in range(len(answer)):\n",
    "        answer[i] = answer[i] % 7\n",
    "    print_array(answer)\n",
    "\n",
    "    # прибавляем к остатку изначальный массив\n",
    "    for i in range(len(answer)):\n",
    "        answer[i] = answer[i] + data[i]\n",
    "    print_array(answer)\n",
    "\n",
    "    # возвращаем результат\n",
    "    return answer\n",
    "\n",
    "test_data = [1, 2, 3, 4]\n",
    "math_task(test_data)"
   ]
  },
  {
   "cell_type": "code",
   "execution_count": 131,
   "metadata": {},
   "outputs": [
    {
     "name": "stdout",
     "output_type": "stream",
     "text": [
      "60\n"
     ]
    }
   ],
   "source": [
    "def sum_as_ints(str_list):\n",
    "    result_sum = 0\n",
    "    for element in str_list:\n",
    "        try:\n",
    "            result_sum += int(element)\n",
    "        except (ValueError, TypeError):\n",
    "            pass\n",
    "    return result_sum\n",
    "\n",
    "# Пример использования\n",
    "string_list = [\"10\", \"20\", \"30\", \"hello\", \"3.14\", \"2,2\"]\n",
    "result = sum_as_ints(string_list)\n",
    "print(result)"
   ]
  },
  {
   "cell_type": "code",
   "execution_count": 136,
   "metadata": {},
   "outputs": [
    {
     "data": {
      "text/plain": [
       "[3, 2, 1]"
      ]
     },
     "execution_count": 136,
     "metadata": {},
     "output_type": "execute_result"
    }
   ],
   "source": [
    "def reversed_(array):\n",
    "    return array[::-1]\n",
    "\n",
    "reversed_([1, 2, 3])"
   ]
  },
  {
   "cell_type": "code",
   "execution_count": 146,
   "metadata": {},
   "outputs": [
    {
     "data": {
      "text/plain": [
       "(6, 8)"
      ]
     },
     "execution_count": 146,
     "metadata": {},
     "output_type": "execute_result"
    }
   ],
   "source": [
    "def find_substr(sub, string):\n",
    "    return (string.index(sub), string.index(sub)+len(sub))\n",
    "\n",
    "find_substr(\"мы\", \"Летом мы хотим отдыхать на море\")"
   ]
  },
  {
   "cell_type": "code",
   "execution_count": 148,
   "metadata": {},
   "outputs": [
    {
     "data": {
      "text/plain": [
       "['<', 'K', '/', 'C', '>']"
      ]
     },
     "execution_count": 148,
     "metadata": {},
     "output_type": "execute_result"
    }
   ],
   "source": [
    "def fifth_element(some_list: list) -> list:\n",
    "    return some_list[-5:0:-5]\n",
    "    \n",
    "fifth_element(['e',6,8,'A','>','^','S','$','R','C',6,'+','#',9,'/',1,'T','!','%','K',7,'-','O','*','<',2,'h',4,'g'])"
   ]
  },
  {
   "cell_type": "code",
   "execution_count": 165,
   "metadata": {},
   "outputs": [
    {
     "data": {
      "text/plain": [
       "'junior reads a lot of books'"
      ]
     },
     "execution_count": 165,
     "metadata": {},
     "output_type": "execute_result"
    }
   ],
   "source": [
    "def process_string(input_string):\n",
    "    lowered_string = input_string[1:].lower()\n",
    "    return lowered_string.replace('intern', 'junior')\n",
    "\n",
    "process_string('IIntern reads a lot of books')"
   ]
  },
  {
   "cell_type": "code",
   "execution_count": 190,
   "metadata": {},
   "outputs": [
    {
     "data": {
      "text/plain": [
       "True"
      ]
     },
     "execution_count": 190,
     "metadata": {},
     "output_type": "execute_result"
    }
   ],
   "source": [
    "def check_string(string):\n",
    "    if string[0] == \" \" or string[-1] == \" \":\n",
    "        result = False\n",
    "    elif not string[0].isupper() or not string[1:].islower():\n",
    "        result = False\n",
    "    elif string[-1] != \".\":\n",
    "        result = False\n",
    "    else:\n",
    "        result = True\n",
    "\n",
    "    return result\n",
    "\n",
    "check_string(\"В этом году будет особенно теплое море.\")"
   ]
  }
 ],
 "metadata": {
  "kernelspec": {
   "display_name": "Python 3 (ipykernel)",
   "language": "python",
   "name": "python3"
  },
  "language_info": {
   "codemirror_mode": {
    "name": "ipython",
    "version": 3
   },
   "file_extension": ".py",
   "mimetype": "text/x-python",
   "name": "python",
   "nbconvert_exporter": "python",
   "pygments_lexer": "ipython3",
   "version": "3.9.6"
  }
 },
 "nbformat": 4,
 "nbformat_minor": 2
}
