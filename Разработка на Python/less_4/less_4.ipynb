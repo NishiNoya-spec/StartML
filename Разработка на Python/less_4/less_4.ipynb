{
 "cells": [
  {
   "cell_type": "code",
   "execution_count": 1,
   "metadata": {},
   "outputs": [],
   "source": [
    "import pandas as pd\n",
    "import numpy as np"
   ]
  },
  {
   "cell_type": "markdown",
   "metadata": {},
   "source": [
    "**Some bold text**"
   ]
  },
  {
   "cell_type": "markdown",
   "metadata": {},
   "source": [
    "_Some cursive text_"
   ]
  },
  {
   "cell_type": "markdown",
   "metadata": {},
   "source": [
    "`Some monospace text`"
   ]
  },
  {
   "cell_type": "code",
   "execution_count": 2,
   "metadata": {},
   "outputs": [
    {
     "name": "stderr",
     "output_type": "stream",
     "text": [
      "C:\\Users\\danil\\AppData\\Local\\Temp\\ipykernel_1500\\1316624387.py:4: RuntimeWarning: overflow encountered in scalar add\n",
      "  result += vec1[i] * vec2[i]\n",
      "C:\\Users\\danil\\AppData\\Local\\Temp\\ipykernel_1500\\1316624387.py:4: RuntimeWarning: overflow encountered in scalar multiply\n",
      "  result += vec1[i] * vec2[i]\n"
     ]
    },
    {
     "data": {
      "text/plain": [
       "216474736"
      ]
     },
     "execution_count": 2,
     "metadata": {},
     "output_type": "execute_result"
    }
   ],
   "source": [
    "def scalar_product(vec1, vec2):\n",
    "    result = 0\n",
    "    for i in range(len(vec1)):\n",
    "        result += vec1[i] * vec2[i]\n",
    "    return result\n",
    "\n",
    "vec1 = np.array((range(int(1e5))))\n",
    "vec2 = np.array((range(int(1e5))))\n",
    "\n",
    "scalar_product(vec1, vec2)"
   ]
  },
  {
   "cell_type": "code",
   "execution_count": 3,
   "metadata": {},
   "outputs": [
    {
     "data": {
      "text/plain": [
       "216474736"
      ]
     },
     "execution_count": 3,
     "metadata": {},
     "output_type": "execute_result"
    }
   ],
   "source": [
    "def scalar_product(vec1, vec2):\n",
    "\n",
    "    return np.dot(vec1, vec2)\n",
    "\n",
    "vec1 = np.array((range(int(1e5))))\n",
    "vec2 = np.array((range(int(1e5))))\n",
    "\n",
    "scalar_product(vec1, vec2)"
   ]
  }
 ],
 "metadata": {
  "kernelspec": {
   "display_name": "aggregate",
   "language": "python",
   "name": "aggregate"
  },
  "language_info": {
   "codemirror_mode": {
    "name": "ipython",
    "version": 3
   },
   "file_extension": ".py",
   "mimetype": "text/x-python",
   "name": "python",
   "nbconvert_exporter": "python",
   "pygments_lexer": "ipython3",
   "version": "3.9.6"
  }
 },
 "nbformat": 4,
 "nbformat_minor": 2
}
